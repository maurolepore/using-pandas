{
 "cells": [
  {
   "cell_type": "markdown",
   "metadata": {},
   "source": [
    "# (25') Using pandas\n",
    "\n",
    "2019-05-20, Mauro Lepore (maurolepore@gmail.com)\n",
    "\n",
    "## GitHub repository: http://bit.ly/using-pandas\n",
    "\n",
    "## Curriculum\n",
    "\n",
    "> Module 1: Students will be familiarized with popular Python libraries that are used in Data Science\n",
    "\n",
    "\n",
    "## Objectives\n",
    "\n",
    "* Import and transform a real-world dataset to answer a data science question with pandas.\n",
    "\n",
    "---\n",
    "\n",
    "# The data science workflow\n",
    "\n",
    "![](https://i.imgur.com/zsnUvnj.png)\n",
    "\n",
    "[Source](https://r4ds.had.co.nz/explore-intro.html)\n",
    "\n",
    "---"
   ]
  },
  {
   "cell_type": "markdown",
   "metadata": {},
   "source": [
    "# Setup\n",
    "\n",
    "* Create a new jupyter notebook.\n",
    "* Issues? Fork this notebook: http://bit.ly/using-pandas-kaggle\n",
    "\n",
    "# Requirements\n",
    "\n",
    "* You already know the basics of [pandas](http://pandas.pydata.org/pandas-docs/stable/).\n",
    "\n",
    "# Resources\n",
    "\n",
    "* [pandas documentation](http://pandas.pydata.org/pandas-docs/stable/).\n",
    "* [How to do stuff with pandas](http://nbviewer.jupyter.org/github/justmarkham/pandas-videos/blob/master/pandas.ipynb).\n",
    "* Search cheetsheets in the wild.\n",
    "\n",
    "# Credit\n",
    "\n",
    "This material was adapted from the tutorial [_Using pandas for Better (and Worse) Data Science_](https://github.com/justmarkham/pycon-2018-tutorial), presented by [Kevin Markham](http://www.dataschool.io/about/) at PyCon on May 10, 2018. Kevin Markham is the founder of [Data School](http://www.dataschool.io/), an online school for learning data science with Python.\n",
    "\n",
    "----"
   ]
  },
  {
   "cell_type": "markdown",
   "metadata": {},
   "source": [
    "---\n",
    "# Questions?\n",
    "---"
   ]
  },
  {
   "cell_type": "markdown",
   "metadata": {},
   "source": [
    "### Import"
   ]
  },
  {
   "cell_type": "code",
   "execution_count": 11,
   "metadata": {},
   "outputs": [],
   "source": [
    "# Import pandas as usual\n",
    "import pandas as pd"
   ]
  },
  {
   "cell_type": "markdown",
   "metadata": {},
   "source": [
    "<details> \n",
    "  <summary>Hint</summary>\n",
    "    <code>`import ____ as ____`</code> \n",
    "</details> \n",
    "\n",
    "<details> \n",
    "  <summary>Solution</summary> \n",
    "    <code>`import pandas as pd`</code> \n",
    "</details> "
   ]
  },
  {
   "cell_type": "markdown",
   "metadata": {},
   "source": [
    "`police.csv` contains data of traffic stops made by police in Rhode Island. It is adapted from [Stanford Open Policing Project](https://openpolicing.stanford.edu/), and available under the [Open Data Commons Attribution License](https://opendatacommons.org/licenses/by/summary/)."
   ]
  },
  {
   "cell_type": "code",
   "execution_count": 14,
   "metadata": {},
   "outputs": [],
   "source": [
    "# Data: https://raw.githubusercontent.com/maurolepore/using-pandas/master/police.csv\n",
    "# Use `ri` for Rhode Island\n",
    "# path = 'police.csv'\n",
    "url = 'https://raw.githubusercontent.com/maurolepore/using-pandas/master/police.csv'\n",
    "ri = pd.read_csv(url)"
   ]
  },
  {
   "cell_type": "markdown",
   "metadata": {},
   "source": [
    "<details> \n",
    "  <summary>Hint</summary>\n",
    "    <code>`ri = pd.____(<path or url>)`</code> \n",
    "</details> \n",
    "  \n",
    "<details> \n",
    "  <summary>Solution</summary> \n",
    "    <code>`ri = pd.read_csv('https://raw.githubusercontent.com/maurolepore/using-pandas/master/police.csv')`</code> \n",
    "</details> "
   ]
  },
  {
   "cell_type": "code",
   "execution_count": 15,
   "metadata": {},
   "outputs": [
    {
     "data": {
      "text/html": [
       "<div>\n",
       "<style scoped>\n",
       "    .dataframe tbody tr th:only-of-type {\n",
       "        vertical-align: middle;\n",
       "    }\n",
       "\n",
       "    .dataframe tbody tr th {\n",
       "        vertical-align: top;\n",
       "    }\n",
       "\n",
       "    .dataframe thead th {\n",
       "        text-align: right;\n",
       "    }\n",
       "</style>\n",
       "<table border=\"1\" class=\"dataframe\">\n",
       "  <thead>\n",
       "    <tr style=\"text-align: right;\">\n",
       "      <th></th>\n",
       "      <th>stop_date</th>\n",
       "      <th>stop_time</th>\n",
       "      <th>county_name</th>\n",
       "      <th>driver_gender</th>\n",
       "      <th>driver_age_raw</th>\n",
       "      <th>driver_age</th>\n",
       "      <th>driver_race</th>\n",
       "      <th>violation_raw</th>\n",
       "      <th>violation</th>\n",
       "      <th>search_conducted</th>\n",
       "      <th>search_type</th>\n",
       "      <th>stop_outcome</th>\n",
       "      <th>is_arrested</th>\n",
       "      <th>stop_duration</th>\n",
       "      <th>drugs_related_stop</th>\n",
       "    </tr>\n",
       "  </thead>\n",
       "  <tbody>\n",
       "    <tr>\n",
       "      <th>0</th>\n",
       "      <td>2005-01-02</td>\n",
       "      <td>01:55</td>\n",
       "      <td>NaN</td>\n",
       "      <td>M</td>\n",
       "      <td>1985.0</td>\n",
       "      <td>20.0</td>\n",
       "      <td>White</td>\n",
       "      <td>Speeding</td>\n",
       "      <td>Speeding</td>\n",
       "      <td>False</td>\n",
       "      <td>NaN</td>\n",
       "      <td>Citation</td>\n",
       "      <td>False</td>\n",
       "      <td>0-15 Min</td>\n",
       "      <td>False</td>\n",
       "    </tr>\n",
       "    <tr>\n",
       "      <th>1</th>\n",
       "      <td>2005-01-18</td>\n",
       "      <td>08:15</td>\n",
       "      <td>NaN</td>\n",
       "      <td>M</td>\n",
       "      <td>1965.0</td>\n",
       "      <td>40.0</td>\n",
       "      <td>White</td>\n",
       "      <td>Speeding</td>\n",
       "      <td>Speeding</td>\n",
       "      <td>False</td>\n",
       "      <td>NaN</td>\n",
       "      <td>Citation</td>\n",
       "      <td>False</td>\n",
       "      <td>0-15 Min</td>\n",
       "      <td>False</td>\n",
       "    </tr>\n",
       "    <tr>\n",
       "      <th>2</th>\n",
       "      <td>2005-01-23</td>\n",
       "      <td>23:15</td>\n",
       "      <td>NaN</td>\n",
       "      <td>M</td>\n",
       "      <td>1972.0</td>\n",
       "      <td>33.0</td>\n",
       "      <td>White</td>\n",
       "      <td>Speeding</td>\n",
       "      <td>Speeding</td>\n",
       "      <td>False</td>\n",
       "      <td>NaN</td>\n",
       "      <td>Citation</td>\n",
       "      <td>False</td>\n",
       "      <td>0-15 Min</td>\n",
       "      <td>False</td>\n",
       "    </tr>\n",
       "    <tr>\n",
       "      <th>3</th>\n",
       "      <td>2005-02-20</td>\n",
       "      <td>17:15</td>\n",
       "      <td>NaN</td>\n",
       "      <td>M</td>\n",
       "      <td>1986.0</td>\n",
       "      <td>19.0</td>\n",
       "      <td>White</td>\n",
       "      <td>Call for Service</td>\n",
       "      <td>Other</td>\n",
       "      <td>False</td>\n",
       "      <td>NaN</td>\n",
       "      <td>Arrest Driver</td>\n",
       "      <td>True</td>\n",
       "      <td>16-30 Min</td>\n",
       "      <td>False</td>\n",
       "    </tr>\n",
       "    <tr>\n",
       "      <th>4</th>\n",
       "      <td>2005-03-14</td>\n",
       "      <td>10:00</td>\n",
       "      <td>NaN</td>\n",
       "      <td>F</td>\n",
       "      <td>1984.0</td>\n",
       "      <td>21.0</td>\n",
       "      <td>White</td>\n",
       "      <td>Speeding</td>\n",
       "      <td>Speeding</td>\n",
       "      <td>False</td>\n",
       "      <td>NaN</td>\n",
       "      <td>Citation</td>\n",
       "      <td>False</td>\n",
       "      <td>0-15 Min</td>\n",
       "      <td>False</td>\n",
       "    </tr>\n",
       "  </tbody>\n",
       "</table>\n",
       "</div>"
      ],
      "text/plain": [
       "    stop_date stop_time  county_name driver_gender  driver_age_raw  \\\n",
       "0  2005-01-02     01:55          NaN             M          1985.0   \n",
       "1  2005-01-18     08:15          NaN             M          1965.0   \n",
       "2  2005-01-23     23:15          NaN             M          1972.0   \n",
       "3  2005-02-20     17:15          NaN             M          1986.0   \n",
       "4  2005-03-14     10:00          NaN             F          1984.0   \n",
       "\n",
       "   driver_age driver_race     violation_raw violation  search_conducted  \\\n",
       "0        20.0       White          Speeding  Speeding             False   \n",
       "1        40.0       White          Speeding  Speeding             False   \n",
       "2        33.0       White          Speeding  Speeding             False   \n",
       "3        19.0       White  Call for Service     Other             False   \n",
       "4        21.0       White          Speeding  Speeding             False   \n",
       "\n",
       "  search_type   stop_outcome is_arrested stop_duration  drugs_related_stop  \n",
       "0         NaN       Citation       False      0-15 Min               False  \n",
       "1         NaN       Citation       False      0-15 Min               False  \n",
       "2         NaN       Citation       False      0-15 Min               False  \n",
       "3         NaN  Arrest Driver        True     16-30 Min               False  \n",
       "4         NaN       Citation       False      0-15 Min               False  "
      ]
     },
     "execution_count": 15,
     "metadata": {},
     "output_type": "execute_result"
    }
   ],
   "source": [
    "# Explore the first few rows. What does each row represent?\n",
    "ri.head()"
   ]
  },
  {
   "cell_type": "markdown",
   "metadata": {},
   "source": [
    "<details> \n",
    "  <summary>Hint</summary>\n",
    "    <code>`ri.____()`</code> \n",
    "</details> \n",
    "  \n",
    "<details> \n",
    "  <summary>Solution</summary> \n",
    "    <code>`ri.head()`</code> \n",
    "</details> "
   ]
  },
  {
   "cell_type": "code",
   "execution_count": 16,
   "metadata": {},
   "outputs": [
    {
     "data": {
      "text/plain": [
       "(91741, 15)"
      ]
     },
     "execution_count": 16,
     "metadata": {},
     "output_type": "execute_result"
    }
   ],
   "source": [
    "# How many columns and rows does the data contain?\n",
    "ri.shape"
   ]
  },
  {
   "cell_type": "markdown",
   "metadata": {},
   "source": [
    "<details> \n",
    "  <summary>Hint</summary>\n",
    "    <code>`____.shape`</code> \n",
    "</details> \n",
    "  \n",
    "<details> \n",
    "  <summary>Solution</summary> \n",
    "    <code>`ri.shape`</code> \n",
    "</details> "
   ]
  },
  {
   "cell_type": "code",
   "execution_count": 20,
   "metadata": {},
   "outputs": [
    {
     "data": {
      "text/plain": [
       "stop_date              object\n",
       "stop_time              object\n",
       "county_name           float64\n",
       "driver_gender          object\n",
       "driver_age_raw        float64\n",
       "driver_age            float64\n",
       "driver_race            object\n",
       "violation_raw          object\n",
       "violation              object\n",
       "search_conducted         bool\n",
       "search_type            object\n",
       "stop_outcome           object\n",
       "is_arrested            object\n",
       "stop_duration          object\n",
       "drugs_related_stop       bool\n",
       "dtype: object"
      ]
     },
     "execution_count": 20,
     "metadata": {},
     "output_type": "execute_result"
    }
   ],
   "source": [
    "# What types of data does this dataset have? What do they mean?\n",
    "ri.dtypes"
   ]
  },
  {
   "cell_type": "markdown",
   "metadata": {},
   "source": [
    "<details> \n",
    "  <summary>Hint</summary>\n",
    "    <code>`____.dtypes`</code> \n",
    "</details> \n",
    "  \n",
    "<details> \n",
    "  <summary>Solution</summary> \n",
    "    <code>`ri.dtypes`</code> \n",
    "</details> "
   ]
  },
  {
   "cell_type": "markdown",
   "metadata": {},
   "source": [
    "* What does `NaN` mean?\n",
    "* Why might a value be missing?\n",
    "* Why mark missing data as `NaN`? Why not `0`, `' '`, or `'Unknown'`?"
   ]
  },
  {
   "cell_type": "code",
   "execution_count": 25,
   "metadata": {},
   "outputs": [
    {
     "data": {
      "text/plain": [
       "stop_date             0.000000\n",
       "stop_time             0.000000\n",
       "county_name           1.000000\n",
       "driver_gender         0.058153\n",
       "driver_age_raw        0.058066\n",
       "driver_age            0.061270\n",
       "driver_race           0.058131\n",
       "violation_raw         0.058131\n",
       "violation             0.058131\n",
       "search_conducted      0.000000\n",
       "search_type           0.965163\n",
       "stop_outcome          0.058131\n",
       "is_arrested           0.058131\n",
       "stop_duration         0.058131\n",
       "drugs_related_stop    0.000000\n",
       "dtype: float64"
      ]
     },
     "execution_count": 25,
     "metadata": {},
     "output_type": "execute_result"
    }
   ],
   "source": [
    "# How many missing values are there in each column?\n",
    "ri.isna().mean()"
   ]
  },
  {
   "cell_type": "markdown",
   "metadata": {},
   "source": [
    "<details> \n",
    "  <summary>Hint</summary>\n",
    "    <code>`ri.isnull().____()`</code> \n",
    "</details> \n",
    "  \n",
    "<details> \n",
    "  <summary>Solution</summary> \n",
    "    <code>`ri.isnull().sum()`</code> \n",
    "</details> "
   ]
  },
  {
   "cell_type": "markdown",
   "metadata": {},
   "source": [
    "---\n",
    "# Questions?\n",
    "---"
   ]
  },
  {
   "cell_type": "markdown",
   "metadata": {},
   "source": [
    "### Transform"
   ]
  },
  {
   "cell_type": "code",
   "execution_count": 28,
   "metadata": {},
   "outputs": [],
   "source": [
    "# Drop the column that contains only missing values\n",
    "ri.drop('county_name', axis='columns', inplace=True)"
   ]
  },
  {
   "cell_type": "markdown",
   "metadata": {},
   "source": [
    "<details> \n",
    "  <summary>Hint</summary>\n",
    "    <code>`ri.drop('____', axis='____', inplace=____)`</code> \n",
    "</details> \n",
    "  \n",
    "<details> \n",
    "  <summary>Solution</summary> \n",
    "    <code>\n",
    "        ```\n",
    "        ri.drop('county_name', axis='columns', inplace=True)\n",
    "        # Same\n",
    "        ri.dropna(axis='columns', how='all', inplace=True)\n",
    "        ```\n",
    "    </code>\n",
    "</details> "
   ]
  },
  {
   "cell_type": "code",
   "execution_count": 29,
   "metadata": {},
   "outputs": [
    {
     "data": {
      "text/plain": [
       "(91741, 14)"
      ]
     },
     "execution_count": 29,
     "metadata": {},
     "output_type": "execute_result"
    }
   ],
   "source": [
    "# Confirm that the column is gone\n",
    "ri.shape"
   ]
  },
  {
   "cell_type": "markdown",
   "metadata": {},
   "source": [
    "<details> \n",
    "  <summary>Hint</summary>\n",
    "    <code>`ri.____`</code> \n",
    "</details> \n",
    "  \n",
    "<details> \n",
    "  <summary>Solution</summary> \n",
    "    <code>`ri.shape`</code> \n",
    "</details> "
   ]
  },
  {
   "cell_type": "markdown",
   "metadata": {},
   "source": [
    "---\n",
    "Take aways:\n",
    "\n",
    "* Pay attention to default arguments.\n",
    "* Check that your code did what you expected.\n",
    "* There is more than one way to do everything."
   ]
  },
  {
   "cell_type": "markdown",
   "metadata": {},
   "source": [
    "---\n",
    "# Questions?\n",
    "---"
   ]
  },
  {
   "cell_type": "markdown",
   "metadata": {},
   "source": [
    "#### Do males or females speed more often?\n",
    "\n",
    "Pay special attention to the columns `violation` and `driver_gender`.\n",
    "\n",
    "There are at least two ways to understand and answer this question:"
   ]
  },
  {
   "cell_type": "markdown",
   "metadata": {},
   "source": [
    "#### 1. When someone is stopped for speeding, how often is it a male or female?"
   ]
  },
  {
   "cell_type": "code",
   "execution_count": 35,
   "metadata": {
    "scrolled": true
   },
   "outputs": [
    {
     "data": {
      "text/plain": [
       "M    0.680527\n",
       "F    0.319473\n",
       "Name: driver_gender, dtype: float64"
      ]
     },
     "execution_count": 35,
     "metadata": {},
     "output_type": "execute_result"
    }
   ],
   "source": [
    "# 1. Pick speeding rows\n",
    "# 2. Select gender column\n",
    "# 3. Count values by gender (as a proportion)\n",
    "\n",
    "ri[ri.violation == 'Speeding'].driver_gender.value_counts(normalize=True)"
   ]
  },
  {
   "cell_type": "markdown",
   "metadata": {},
   "source": [
    "<details> \n",
    "  <summary>Hint</summary>\n",
    "    <code>\n",
    "        ```\n",
    "        speeding = ri[ri.____ == 'Speeding']\n",
    "        ____.____.value_counts(normalize=True)\n",
    "        ```\n",
    "    </code> \n",
    "</details> \n",
    "  \n",
    "<details> \n",
    "  <summary>Solution</summary> \n",
    "    <code>\n",
    "        ```\n",
    "        speeding = ri[ri.violation == 'Speeding']\n",
    "        speeding.driver_gender.value_counts(normalize=True)\n",
    "        ```\n",
    "    </code> \n",
    "</details> "
   ]
  },
  {
   "cell_type": "markdown",
   "metadata": {},
   "source": [
    "#### 2. When a male is pulled over, how often is for speeding? (repeat for female)"
   ]
  },
  {
   "cell_type": "code",
   "execution_count": 37,
   "metadata": {},
   "outputs": [
    {
     "data": {
      "text/plain": [
       "driver_gender  violation          \n",
       "F              Speeding               0.658500\n",
       "               Moving violation       0.136277\n",
       "               Equipment              0.105780\n",
       "               Registration/plates    0.043086\n",
       "               Other                  0.029348\n",
       "               Seat belt              0.027009\n",
       "M              Speeding               0.524350\n",
       "               Moving violation       0.207012\n",
       "               Equipment              0.135671\n",
       "               Other                  0.057668\n",
       "               Registration/plates    0.038461\n",
       "               Seat belt              0.036839\n",
       "Name: violation, dtype: float64"
      ]
     },
     "execution_count": 37,
     "metadata": {},
     "output_type": "execute_result"
    }
   ],
   "source": [
    "# 1. Group the data by gender\n",
    "# 2. Select the violations column\n",
    "# 3. Count values by violation (as a proportion)\n",
    "\n",
    "ri.groupby('driver_gender').violation.value_counts(normalize=True)"
   ]
  },
  {
   "cell_type": "markdown",
   "metadata": {},
   "source": [
    "<details> \n",
    "  <summary>Hint</summary>\n",
    "    <code>`ri.groupby('____').____.value_counts(normalize=True)`</code> \n",
    "</details> \n",
    "  \n",
    "<details> \n",
    "  <summary>Solution</summary> \n",
    "    <code>`ri.groupby('driver_gender').violation.value_counts(normalize=True)`</code> \n",
    "</details> "
   ]
  },
  {
   "cell_type": "markdown",
   "metadata": {},
   "source": [
    "Take away: \n",
    "\n",
    "* There is more than one way to understand and answer a question."
   ]
  },
  {
   "cell_type": "markdown",
   "metadata": {},
   "source": [
    "### Communicate"
   ]
  },
  {
   "cell_type": "markdown",
   "metadata": {},
   "source": [
    "```\n",
    "git add .\n",
    "git commit -m \"Analyze police traffic stops in Rhode Island\"\n",
    "git push\n",
    "```"
   ]
  },
  {
   "cell_type": "markdown",
   "metadata": {},
   "source": [
    "[See this report on GitHub](https://github.com/maurolepore/using-pandas/blob/master/using-pandas.ipynb)"
   ]
  },
  {
   "cell_type": "markdown",
   "metadata": {},
   "source": [
    "---\n",
    "# Quesitons?\n",
    "---"
   ]
  },
  {
   "cell_type": "markdown",
   "metadata": {},
   "source": [
    " # [Poll](https://github.com/maurolepore/using-pandas/issues/1)"
   ]
  }
 ],
 "metadata": {
  "kernelspec": {
   "display_name": "Python 3",
   "language": "python",
   "name": "python3"
  },
  "language_info": {
   "codemirror_mode": {
    "name": "ipython",
    "version": 3
   },
   "file_extension": ".py",
   "mimetype": "text/x-python",
   "name": "python",
   "nbconvert_exporter": "python",
   "pygments_lexer": "ipython3",
   "version": "3.6.5"
  }
 },
 "nbformat": 4,
 "nbformat_minor": 2
}
