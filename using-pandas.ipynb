{
 "cells": [
  {
   "cell_type": "markdown",
   "metadata": {},
   "source": [
    "# (25') Using pandas\n",
    "\n",
    "2019-05-20, Mauro Lepore (maurolepore@gmail.com)\n",
    "\n",
    "# http://bit.ly/using-pandas\n",
    "\n",
    "---\n",
    "\n",
    "![](https://i.imgur.com/zsnUvnj.png)\n",
    "\n",
    "> Module 1: Students will be familiarized with popular Python libraries that are used in Data Science\n",
    "\n",
    "---"
   ]
  },
  {
   "cell_type": "markdown",
   "metadata": {},
   "source": [
    "# Setup\n",
    "\n",
    "* Create a new jupyter notebook.\n",
    "* Issues? Fork this notebook: http://bit.ly/using-pandas-kaggle\n",
    "\n",
    "# Requirements\n",
    "\n",
    "* You already know the basics of [pandas](http://pandas.pydata.org/pandas-docs/stable/).\n",
    "\n",
    "# Additional resources\n",
    "\n",
    "* [pandas documentation](http://pandas.pydata.org/pandas-docs/stable/).\n",
    "* [How to do stuff with pandas](http://nbviewer.jupyter.org/github/justmarkham/pandas-videos/blob/master/pandas.ipynb).\n",
    "* Search cheetsheets in the wild.\n",
    "\n",
    "# Objectives\n",
    "\n",
    "* Import, explore and answer a data science question with a real-world dataset and pandas.\n",
    "\n",
    "----\n",
    "\n",
    "This material was adapted from the tutorial [_Using pandas for Better (and Worse) Data Science_](https://github.com/justmarkham/pycon-2018-tutorial), presented by [Kevin Markham](http://www.dataschool.io/about/) at PyCon on May 10, 2018. Kevin Markham is the founder of [Data School](http://www.dataschool.io/), an online school for learning data science with Python.\n",
    "\n",
    "----"
   ]
  },
  {
   "cell_type": "markdown",
   "metadata": {},
   "source": [
    "---\n",
    "# Questions?\n",
    "---"
   ]
  },
  {
   "cell_type": "markdown",
   "metadata": {},
   "source": [
    "### Import"
   ]
  },
  {
   "cell_type": "code",
   "execution_count": 1,
   "metadata": {},
   "outputs": [],
   "source": [
    "# Import pandas as usual"
   ]
  },
  {
   "cell_type": "markdown",
   "metadata": {},
   "source": [
    "<details> \n",
    "  <summary>Hint</summary>\n",
    "    <code>`import ____ as ____`</code> \n",
    "</details> \n",
    "\n",
    "<details> \n",
    "  <summary>Solution</summary> \n",
    "    <code>`import pandas as pd`</code> \n",
    "</details> "
   ]
  },
  {
   "cell_type": "markdown",
   "metadata": {},
   "source": [
    "`police.csv` contains data of traffic stops made by police in Rhode Island. It is adapted from [Stanford Open Policing Project](https://openpolicing.stanford.edu/), and available under the [Open Data Commons Attribution License](https://opendatacommons.org/licenses/by/summary/)."
   ]
  },
  {
   "cell_type": "code",
   "execution_count": 3,
   "metadata": {},
   "outputs": [],
   "source": [
    "# Data: http://bit.ly/police-ri\n",
    "# Horrible url: https://raw.githubusercontent.com/maurolepore/using-pandas/master/police.csv\n",
    "# Use `ri` for Rhode Island"
   ]
  },
  {
   "cell_type": "markdown",
   "metadata": {},
   "source": [
    "<details> \n",
    "  <summary>Hint</summary>\n",
    "    <code>`ri = pd.____(url)`</code> \n",
    "</details> \n",
    "  \n",
    "<details> \n",
    "  <summary>Solution</summary> \n",
    "    <code>`ri = pd.read_csv('https://raw.githubusercontent.com/maurolepore/using-pandas/master/police.csv')`</code> \n",
    "</details> "
   ]
  },
  {
   "cell_type": "code",
   "execution_count": 3,
   "metadata": {},
   "outputs": [],
   "source": [
    "# Explore the first few rows. What does each row represent?"
   ]
  },
  {
   "cell_type": "markdown",
   "metadata": {},
   "source": [
    "<details> \n",
    "  <summary>Hint</summary>\n",
    "    <code>`ri.____()`</code> \n",
    "</details> \n",
    "  \n",
    "<details> \n",
    "  <summary>Solution</summary> \n",
    "    <code>`ri.head()`</code> \n",
    "</details> "
   ]
  },
  {
   "cell_type": "code",
   "execution_count": 4,
   "metadata": {},
   "outputs": [],
   "source": [
    "# How many columns and rows does the data contain?"
   ]
  },
  {
   "cell_type": "markdown",
   "metadata": {},
   "source": [
    "<details> \n",
    "  <summary>Hint</summary>\n",
    "    <code>`____.shape`</code> \n",
    "</details> \n",
    "  \n",
    "<details> \n",
    "  <summary>Solution</summary> \n",
    "    <code>`ri.shape`</code> \n",
    "</details> "
   ]
  },
  {
   "cell_type": "code",
   "execution_count": 5,
   "metadata": {},
   "outputs": [],
   "source": [
    "# What types of data does this dataset have? What do they mean?"
   ]
  },
  {
   "cell_type": "markdown",
   "metadata": {},
   "source": [
    "<details> \n",
    "  <summary>Hint</summary>\n",
    "    <code>`____.dtypes`</code> \n",
    "</details> \n",
    "  \n",
    "<details> \n",
    "  <summary>Solution</summary> \n",
    "    <code>`ri.dtypes`</code> \n",
    "</details> "
   ]
  },
  {
   "cell_type": "markdown",
   "metadata": {},
   "source": [
    "* What does `NaN` mean?\n",
    "* Why might a value be missing?\n",
    "* Why mark missing data as `NaN`? Why not `0`, `' '`, or `'Unknown'`?"
   ]
  },
  {
   "cell_type": "code",
   "execution_count": 6,
   "metadata": {},
   "outputs": [],
   "source": [
    "# How many missing values are there in each column?"
   ]
  },
  {
   "cell_type": "markdown",
   "metadata": {},
   "source": [
    "<details> \n",
    "  <summary>Hint</summary>\n",
    "    <code>`ri.isnull().____()`</code> \n",
    "</details> \n",
    "  \n",
    "<details> \n",
    "  <summary>Solution</summary> \n",
    "    <code>`ri.isnull().sum()`</code> \n",
    "</details> "
   ]
  },
  {
   "cell_type": "markdown",
   "metadata": {},
   "source": [
    "---\n",
    "# Questions?\n",
    "---"
   ]
  },
  {
   "cell_type": "markdown",
   "metadata": {},
   "source": [
    "### Tidy"
   ]
  },
  {
   "cell_type": "code",
   "execution_count": 7,
   "metadata": {},
   "outputs": [],
   "source": [
    "# Drop the column that contains only missing values"
   ]
  },
  {
   "cell_type": "markdown",
   "metadata": {},
   "source": [
    "<details> \n",
    "  <summary>Hint</summary>\n",
    "    <code>`ri.drop('____', axis='____', inplace=____)`</code> \n",
    "</details> \n",
    "  \n",
    "<details> \n",
    "  <summary>Solution</summary> \n",
    "    <code>\n",
    "        ```\n",
    "        ri.drop('county_name', axis='columns', inplace=True)\n",
    "        # Same\n",
    "        ri.dropna(axis='columns', how='all', inplace=True)\n",
    "        ```\n",
    "    </code>\n",
    "</details> "
   ]
  },
  {
   "cell_type": "code",
   "execution_count": 8,
   "metadata": {},
   "outputs": [],
   "source": [
    "# Confirm that the column is gone"
   ]
  },
  {
   "cell_type": "markdown",
   "metadata": {},
   "source": [
    "<details> \n",
    "  <summary>Hint</summary>\n",
    "    <code>`ri.____`</code> \n",
    "</details> \n",
    "  \n",
    "<details> \n",
    "  <summary>Solution</summary> \n",
    "    <code>`ri.shape`</code> \n",
    "</details> "
   ]
  },
  {
   "cell_type": "markdown",
   "metadata": {},
   "source": [
    "---\n",
    "Take aways:\n",
    "\n",
    "* Pay attention to default arguments.\n",
    "* Check that your code did what you expected.\n",
    "* There is more than one way to do everything."
   ]
  },
  {
   "cell_type": "markdown",
   "metadata": {},
   "source": [
    "---\n",
    "# Questions?\n",
    "---"
   ]
  },
  {
   "cell_type": "markdown",
   "metadata": {},
   "source": [
    "### Transform"
   ]
  },
  {
   "cell_type": "markdown",
   "metadata": {},
   "source": [
    "#### Do males or females speed more often?\n",
    "\n",
    "Pay special attention to the columns `violation` and `driver_gender`.\n",
    "\n",
    "There are at least two ways to understand and answer this question:"
   ]
  },
  {
   "cell_type": "markdown",
   "metadata": {},
   "source": [
    "#### 1. When someone is stopped for speeding, How often is it a male or female?"
   ]
  },
  {
   "cell_type": "code",
   "execution_count": 9,
   "metadata": {
    "scrolled": true
   },
   "outputs": [],
   "source": [
    "# 1. Pick speeding rows\n",
    "# 2. Select gender column\n",
    "# 3. Count values by gender (as a proportion)"
   ]
  },
  {
   "cell_type": "markdown",
   "metadata": {},
   "source": [
    "<details> \n",
    "  <summary>Hint</summary>\n",
    "    <code>\n",
    "        ```\n",
    "        speeding = ri[ri.____ == 'Speeding']\n",
    "        ____.____.value_counts(normalize=True)\n",
    "        ```\n",
    "    </code> \n",
    "</details> \n",
    "  \n",
    "<details> \n",
    "  <summary>Solution</summary> \n",
    "    <code>\n",
    "        ```\n",
    "        speeding = ri[ri.violation == 'Speeding']\n",
    "        speeding.driver_gender.value_counts(normalize=True)\n",
    "        ```\n",
    "    </code> \n",
    "</details> "
   ]
  },
  {
   "cell_type": "markdown",
   "metadata": {},
   "source": [
    "Does this prove that males/females speed more?"
   ]
  },
  {
   "cell_type": "markdown",
   "metadata": {},
   "source": [
    "#### 2. When a male is pulled over, How often is for speeding? (repeat for female)"
   ]
  },
  {
   "cell_type": "code",
   "execution_count": 10,
   "metadata": {},
   "outputs": [],
   "source": [
    "# 1. Group the data by gender\n",
    "# 2. Select the violations column\n",
    "# 3. Count values by violation (as a proportion)"
   ]
  },
  {
   "cell_type": "markdown",
   "metadata": {},
   "source": [
    "<details> \n",
    "  <summary>Hint</summary>\n",
    "    <code>`ri.groupby('____').____.value_counts(normalize=True)`</code> \n",
    "</details> \n",
    "  \n",
    "<details> \n",
    "  <summary>Solution</summary> \n",
    "    <code>`ri.groupby('driver_gender').violation.value_counts(normalize=True)`</code> \n",
    "</details> "
   ]
  },
  {
   "cell_type": "markdown",
   "metadata": {},
   "source": [
    "Are the two anwers consistent?"
   ]
  },
  {
   "cell_type": "markdown",
   "metadata": {},
   "source": [
    "Take away: \n",
    "\n",
    "* There is more than one way to understand and answer a question."
   ]
  },
  {
   "cell_type": "markdown",
   "metadata": {},
   "source": [
    "### Communicate"
   ]
  },
  {
   "cell_type": "markdown",
   "metadata": {},
   "source": [
    "```\n",
    "git add .\n",
    "git commit -m \"End demo\"\n",
    "git push\n",
    "```"
   ]
  },
  {
   "cell_type": "markdown",
   "metadata": {},
   "source": [
    "[See this report on GitHub](https://github.com/maurolepore/using-pandas/blob/master/using-pandas.ipynb)"
   ]
  },
  {
   "cell_type": "markdown",
   "metadata": {},
   "source": [
    "---\n",
    "# Quesitons?\n",
    "---"
   ]
  },
  {
   "cell_type": "markdown",
   "metadata": {},
   "source": [
    " # [Poll](https://github.com/maurolepore/using-pandas/issues/1)"
   ]
  }
 ],
 "metadata": {
  "kernelspec": {
   "display_name": "Python 3",
   "language": "python",
   "name": "python3"
  },
  "language_info": {
   "codemirror_mode": {
    "name": "ipython",
    "version": 3
   },
   "file_extension": ".py",
   "mimetype": "text/x-python",
   "name": "python",
   "nbconvert_exporter": "python",
   "pygments_lexer": "ipython3",
   "version": "3.6.5"
  }
 },
 "nbformat": 4,
 "nbformat_minor": 2
}
