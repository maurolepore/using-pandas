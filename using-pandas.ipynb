{
 "cells": [
  {
   "cell_type": "markdown",
   "metadata": {},
   "source": [
    "# (25') Using pandas\n",
    "\n",
    "### [GitHub repository](https://github.com/maurolepore/using-pandas)  |  [Feedback](https://github.com/maurolepore/using-pandas/issues/1)"
   ]
  },
  {
   "cell_type": "markdown",
   "metadata": {},
   "source": [
    "### Setup\n",
    "\n",
    "* Create a new jupyter notebook under the same directory as the data.\n",
    "\n",
    "### Curriculum\n",
    "\n",
    "Module 1 > Python for data science\n",
    "\n",
    "> Students will be familiarized with popular Python libraries that are used in Data Science, such as Pandas.\n",
    "\n",
    "![](https://i.imgur.com/zsnUvnj.png)\n",
    "\n",
    "### Requirements\n",
    "\n",
    "* You already know the basics of [pandas](http://pandas.pydata.org/pandas-docs/stable/).\n",
    "\n",
    "### Additional resources\n",
    "\n",
    "* [How to do stuff with pandas](http://nbviewer.jupyter.org/github/justmarkham/pandas-videos/blob/master/pandas.ipynb).\n",
    "* Cheetsheets.\n",
    "\n",
    "### Objectives\n",
    "\n",
    "* Import, explore and answer a data science question with a real-world dataset and pandas.\n",
    "\n",
    "----\n",
    "\n",
    "This material was adapted from the tutorial [_Using pandas for Better (and Worse) Data Science_](https://github.com/justmarkham/pycon-2018-tutorial), presented by [Kevin Markham](http://www.dataschool.io/about/) at PyCon on May 10, 2018. Kevin Markham is the founder of [Data School](http://www.dataschool.io/), an online school for learning data science with Python.\n",
    "\n",
    "----"
   ]
  },
  {
   "cell_type": "markdown",
   "metadata": {},
   "source": [
    "### Import"
   ]
  },
  {
   "cell_type": "code",
   "execution_count": 1,
   "metadata": {},
   "outputs": [],
   "source": [
    "# Import pandas as usual"
   ]
  },
  {
   "cell_type": "markdown",
   "metadata": {},
   "source": [
    "`police.csv` contains data of traffic stops made by police in Rhode Island. It is adapted from [Stanford Open Policing Project](https://openpolicing.stanford.edu/), and available under the [Open Data Commons Attribution License](https://opendatacommons.org/licenses/by/summary/)."
   ]
  },
  {
   "cell_type": "code",
   "execution_count": 2,
   "metadata": {},
   "outputs": [],
   "source": [
    "url = 'https://raw.githubusercontent.com/maurolepore/using-pandas/master/police.csv'\n",
    "# ri stands for Rhode Island\n",
    "# ri = pd.____(url)"
   ]
  },
  {
   "cell_type": "code",
   "execution_count": 3,
   "metadata": {},
   "outputs": [],
   "source": [
    "# Explore the first few rows. What does each row represent?"
   ]
  },
  {
   "cell_type": "code",
   "execution_count": 4,
   "metadata": {},
   "outputs": [],
   "source": [
    "# How many columns and rows does the data contain?"
   ]
  },
  {
   "cell_type": "code",
   "execution_count": 5,
   "metadata": {},
   "outputs": [],
   "source": [
    "# What types of data does this dataset have? What do they mean?"
   ]
  },
  {
   "cell_type": "markdown",
   "metadata": {},
   "source": [
    "* What does `NaN` mean?\n",
    "* Why might a value be missing?\n",
    "* Why mark missing data as `NaN`? Why not `0`, `' '`, or `'Unknown'`?"
   ]
  },
  {
   "cell_type": "code",
   "execution_count": 6,
   "metadata": {},
   "outputs": [],
   "source": [
    "# How many missing values are there in each column?"
   ]
  },
  {
   "cell_type": "markdown",
   "metadata": {},
   "source": [
    "### Tidy"
   ]
  },
  {
   "cell_type": "code",
   "execution_count": 7,
   "metadata": {},
   "outputs": [],
   "source": [
    "# Drop the column that contains only missing values\n",
    "# ri.drop('____', axis='____', inplace=____)"
   ]
  },
  {
   "cell_type": "code",
   "execution_count": 8,
   "metadata": {},
   "outputs": [],
   "source": [
    "# Confirm that the column is gone"
   ]
  },
  {
   "cell_type": "code",
   "execution_count": 9,
   "metadata": {},
   "outputs": [],
   "source": [
    "# How else could you do the same?\n",
    "# ri.____(axis='____', how='all', inplace=____)"
   ]
  },
  {
   "cell_type": "markdown",
   "metadata": {},
   "source": [
    "Take aways:\n",
    "\n",
    "* Pay attention to default arguments.\n",
    "* Check that your code did what you expected.\n",
    "* There is more than one way to do everything."
   ]
  },
  {
   "cell_type": "markdown",
   "metadata": {},
   "source": [
    "### Transform"
   ]
  },
  {
   "cell_type": "markdown",
   "metadata": {},
   "source": [
    "#### Do males or females speed more often?\n",
    "\n",
    "* Pay special attention to the columns 'violation' and 'driver_gender'.\n",
    "* There are at least two ways to understand and answer this question."
   ]
  },
  {
   "cell_type": "code",
   "execution_count": 10,
   "metadata": {},
   "outputs": [],
   "source": [
    "# Let's see the first few rows again"
   ]
  },
  {
   "cell_type": "markdown",
   "metadata": {},
   "source": [
    "#### Option 1: When someone is stopped for speeding, How often is it a male or female?"
   ]
  },
  {
   "cell_type": "code",
   "execution_count": 11,
   "metadata": {
    "scrolled": true
   },
   "outputs": [],
   "source": [
    "# speeding = ri[ri.____ == '____']\n",
    "# count_by_gender = speeding.____.value_counts(normalize=True)\n",
    "# count_by_gender"
   ]
  },
  {
   "cell_type": "markdown",
   "metadata": {},
   "source": [
    "Does this prove that males/females speed more?"
   ]
  },
  {
   "cell_type": "markdown",
   "metadata": {},
   "source": [
    "#### Option 2: When a male is pulled over, How often is for speeding? (repeat for female)"
   ]
  },
  {
   "cell_type": "code",
   "execution_count": 12,
   "metadata": {},
   "outputs": [],
   "source": [
    "# ri.groupby('____').____.value_counts(normalize=True)"
   ]
  },
  {
   "cell_type": "markdown",
   "metadata": {},
   "source": [
    "Is this result consistent with option 1?"
   ]
  },
  {
   "cell_type": "markdown",
   "metadata": {},
   "source": [
    "Take away: \n",
    "\n",
    "* There is more than one way to understand and answer a question."
   ]
  },
  {
   "cell_type": "markdown",
   "metadata": {},
   "source": [
    "### Communicate"
   ]
  },
  {
   "cell_type": "markdown",
   "metadata": {},
   "source": [
    "```\n",
    "git add .\n",
    "git commit -m \"End demo\"\n",
    "git push\n",
    "```"
   ]
  },
  {
   "cell_type": "markdown",
   "metadata": {},
   "source": [
    "[Now see this report on GitHub](https://github.com/maurolepore/using-pandas/blob/master/using-pandas.ipynb)"
   ]
  }
 ],
 "metadata": {
  "kernelspec": {
   "display_name": "Python 3",
   "language": "python",
   "name": "python3"
  },
  "language_info": {
   "codemirror_mode": {
    "name": "ipython",
    "version": 3
   },
   "file_extension": ".py",
   "mimetype": "text/x-python",
   "name": "python",
   "nbconvert_exporter": "python",
   "pygments_lexer": "ipython3",
   "version": "3.6.5"
  }
 },
 "nbformat": 4,
 "nbformat_minor": 2
}
